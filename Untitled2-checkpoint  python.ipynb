{
 "cells": [
  {
   "cell_type": "markdown",
   "id": "06c2e477",
   "metadata": {},
   "source": [
    "محمد محمود السيد جندي\n",
    "\n",
    "# wellcome code\n"
   ]
  },
  {
   "cell_type": "code",
   "execution_count": 17,
   "id": "6e019001",
   "metadata": {},
   "outputs": [],
   "source": [
    "my_list = [2,4.50,6,8,10,12,1.4,16,18,20,\"wellcome\",True]"
   ]
  },
  {
   "cell_type": "code",
   "execution_count": 18,
   "id": "a57d2ba0",
   "metadata": {},
   "outputs": [
    {
     "name": "stdout",
     "output_type": "stream",
     "text": [
      "[2, 4.5, 6, 8, 10, 12, 1.4, 16, 18, 20, 'wellcome', True]\n"
     ]
    }
   ],
   "source": [
    "print(my_list)"
   ]
  },
  {
   "cell_type": "code",
   "execution_count": 19,
   "id": "4873a5b0",
   "metadata": {},
   "outputs": [],
   "source": [
    "my_tuple = (1,3.30,5,7,9.80,11,13,15,17,19,\"Hello\",False)"
   ]
  },
  {
   "cell_type": "code",
   "execution_count": 20,
   "id": "f719ed95",
   "metadata": {},
   "outputs": [
    {
     "name": "stdout",
     "output_type": "stream",
     "text": [
      "(1, 3.3, 5, 7, 9.8, 11, 13, 15, 17, 19, 'Hello', False)\n"
     ]
    }
   ],
   "source": [
    "print(my_tuple)"
   ]
  },
  {
   "cell_type": "code",
   "execution_count": 46,
   "id": "2dbbeaf5",
   "metadata": {},
   "outputs": [],
   "source": [
    "my_set = {1,1,2,2,4,4,3,5,5,8,9,6,7,6,False,\"Hello\",False}"
   ]
  },
  {
   "cell_type": "code",
   "execution_count": 47,
   "id": "c8d6ee9c",
   "metadata": {},
   "outputs": [
    {
     "name": "stdout",
     "output_type": "stream",
     "text": [
      "{False, 1, 2, 3, 4, 5, 6, 7, 8, 9, 'Hello'}\n"
     ]
    }
   ],
   "source": [
    "print(my_set)"
   ]
  },
  {
   "cell_type": "code",
   "execution_count": 61,
   "id": "f3c69a1a",
   "metadata": {},
   "outputs": [],
   "source": [
    "my_dict = {\"name\",\"Elgendy\",\"age\",19,\"number\",1750,\"is_student\",True}"
   ]
  },
  {
   "cell_type": "code",
   "execution_count": 62,
   "id": "e80df132",
   "metadata": {},
   "outputs": [
    {
     "name": "stdout",
     "output_type": "stream",
     "text": [
      "{True, 'age', 'name', 'number', 'is_student', 19, 1750, 'Elgendy'}\n"
     ]
    }
   ],
   "source": [
    "print(my_dict)"
   ]
  },
  {
   "cell_type": "code",
   "execution_count": null,
   "id": "53b63330",
   "metadata": {},
   "outputs": [],
   "source": []
  }
 ],
 "metadata": {
  "kernelspec": {
   "display_name": "Python 3 (ipykernel)",
   "language": "python",
   "name": "python3"
  },
  "language_info": {
   "codemirror_mode": {
    "name": "ipython",
    "version": 3
   },
   "file_extension": ".py",
   "mimetype": "text/x-python",
   "name": "python",
   "nbconvert_exporter": "python",
   "pygments_lexer": "ipython3",
   "version": "3.11.3"
  }
 },
 "nbformat": 4,
 "nbformat_minor": 5
}
